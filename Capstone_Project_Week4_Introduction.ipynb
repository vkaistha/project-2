{
    "cells": [
        {
            "cell_type": "markdown",
            "metadata": {
                "collapsed": true
            },
            "source": "## __**Capstone Project - The Battle of Neighborhoods (Week 1)**__"
        },
        {
            "cell_type": "markdown",
            "metadata": {},
            "source": "#### Author - Vishal Kaistha"
        },
        {
            "cell_type": "markdown",
            "metadata": {},
            "source": "## __**1. A description of the problem and a discussion of the background.**__"
        },
        {
            "cell_type": "markdown",
            "metadata": {},
            "source": "### 1.1 Problem Statement"
        },
        {
            "cell_type": "markdown",
            "metadata": {},
            "source": "#### Which neighborhood in Toronto should be picked for one of my clients for purchasing a new house or condo?"
        },
        {
            "cell_type": "markdown",
            "metadata": {},
            "source": "### 1.2 Background Discussion"
        },
        {
            "cell_type": "markdown",
            "metadata": {},
            "source": "#### Choosing a location when looking for a home is very important! After all, you can always update or fix your house, but you can't easily change its location and the vibe of the community! In this project, I would like to create a hypothetical business scenario with an aim of finding a compatible location for one of my clients."
        },
        {
            "cell_type": "markdown",
            "metadata": {},
            "source": "### 1.3 Who is my audience and why would they care?"
        },
        {
            "cell_type": "markdown",
            "metadata": {},
            "source": "#### Although many zones already have their own labels, such as 'China Town', 'Little Italy', however, the overall perceived quality of a community is highly subjective to different clients, because they will have their own needs and expectation. Also, in this project, the 'hypothetical client' has never lived in Toronto before, so it will be very convenient for him if I could provide a smart 'recommendation system' for him based on his own expectation and rating of various aspects, the data retrieved from FourSquare as well as a recommendation engine designed and customized for him."
        },
        {
            "cell_type": "code",
            "execution_count": null,
            "metadata": {},
            "outputs": [],
            "source": ""
        }
    ],
    "metadata": {
        "kernelspec": {
            "display_name": "Python 3.6",
            "language": "python",
            "name": "python3"
        },
        "language_info": {
            "codemirror_mode": {
                "name": "ipython",
                "version": 3
            },
            "file_extension": ".py",
            "mimetype": "text/x-python",
            "name": "python",
            "nbconvert_exporter": "python",
            "pygments_lexer": "ipython3",
            "version": "3.6.9"
        }
    },
    "nbformat": 4,
    "nbformat_minor": 1
}